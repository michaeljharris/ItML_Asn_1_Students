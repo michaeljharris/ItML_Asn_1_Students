{
 "cells": [
  {
   "cell_type": "code",
   "execution_count": 1,
   "metadata": {},
   "outputs": [],
   "source": [
    "import pandas as pd\n",
    "import numpy as np\n",
    "import sklearn.datasets\n",
    "\n",
    "from sklearn.model_selection import cross_val_score\n",
    "from sklearn.metrics import roc_auc_score\n",
    "from sklearn.metrics import accuracy_score\n",
    "from sklearn.tree import DecisionTreeClassifier\n",
    "from sklearn.preprocessing import StandardScaler\n",
    "from sklearn.pipeline import Pipeline\n",
    "from sklearn.model_selection import train_test_split\n",
    "\n",
    "\n",
    "import matplotlib.pyplot as plt\n",
    "import seaborn as sns\n",
    "plt.rcParams[\"figure.figsize\"] = (8,8)"
   ]
  },
  {
   "attachments": {},
   "cell_type": "markdown",
   "metadata": {},
   "source": [
    "## 3950 Assignment 1: Part 2\n",
    "\n",
    "For this assignment we want to use some sort of tree based model to classify the data below. We have a very small training set, so overfitting is a very real concern. \n",
    "\n",
    "Some specifics for this assignment:\n",
    "<ul>\n",
    "<li>Please use the show_eda to control if EDA stuff is shown. I don't really need to see all the EDA stuff (nor do you after you've done it), so we can make it configurable with a variable to speed up time. Please set this FALSE when you submit, so I can run all and see the outcome without histograms etc...\n",
    "<li>Please ensure that whatever model you end up with is in a variable named best at the end.\n",
    "<li>Please use some pipeline in prepping the data. The test data is in an identical format to the training data, so whatever pipeline you've created for your training will work for the testing. \n",
    "<li>The accuracy scoring will be an average of accuracy and roc_auc. \n",
    "</ul>\n",
    "\n",
    "### Grading Metrics\n",
    "<ul>\n",
    "<li><b>Pipeline Used - 10pts</b> The data loading needs to be in a pipeline. See the test part for illustration. When testing I'll call your pipe with the new data (format is identical to training), so any prep stuff should be in the pipeline. \n",
    "<li><b>Tree Based Model Used - 5pts</b> The model used for classification needs to be some variety of tree, beyond that it is up to you. \n",
    "<li><b>Accuracy - 5pts</b> The final accuracy acheived. This will be a rough ranking, I'm assuming most people will get a similar level of accuracy, marks will only be deducted if yours is far wosrse, as that's an indication that you probably didn't take any/many steps to improve things. \n",
    "<li><b>Clarity and Formatting - 5pts</b> Is it organized and can I read it?\n",
    "    <ul>\n",
    "    <li> <b>Note:</b> for this assignment, and in general, please get rid of my comments and replace them with your own. I'm going to read this, so all of these instructions aren't really required. Think of this as a template, get rid of the stuff that isn't needed, and leave only the things you need to explain your code. \n",
    "    </ul>\n",
    "</ul>\n",
    "\n",
    "For submission, please drop the URL for your repository in the dropbox."
   ]
  },
  {
   "cell_type": "code",
   "execution_count": 2,
   "metadata": {},
   "outputs": [],
   "source": [
    "\n",
    "name = \"Michael Harris\"\n"
   ]
  },
  {
   "cell_type": "markdown",
   "metadata": {},
   "source": [
    "#### Data Setup"
   ]
  },
  {
   "cell_type": "code",
   "execution_count": 3,
   "metadata": {},
   "outputs": [
    {
     "data": {
      "text/html": [
       "<div>\n",
       "<style scoped>\n",
       "    .dataframe tbody tr th:only-of-type {\n",
       "        vertical-align: middle;\n",
       "    }\n",
       "\n",
       "    .dataframe tbody tr th {\n",
       "        vertical-align: top;\n",
       "    }\n",
       "\n",
       "    .dataframe thead th {\n",
       "        text-align: right;\n",
       "    }\n",
       "</style>\n",
       "<table border=\"1\" class=\"dataframe\">\n",
       "  <thead>\n",
       "    <tr style=\"text-align: right;\">\n",
       "      <th></th>\n",
       "      <th>target</th>\n",
       "      <th>var_1</th>\n",
       "      <th>var_2</th>\n",
       "      <th>var_3</th>\n",
       "      <th>var_4</th>\n",
       "      <th>var_5</th>\n",
       "      <th>var_6</th>\n",
       "      <th>var_7</th>\n",
       "      <th>var_8</th>\n",
       "      <th>var_9</th>\n",
       "      <th>...</th>\n",
       "      <th>var_191</th>\n",
       "      <th>var_192</th>\n",
       "      <th>var_193</th>\n",
       "      <th>var_194</th>\n",
       "      <th>var_195</th>\n",
       "      <th>var_196</th>\n",
       "      <th>var_197</th>\n",
       "      <th>var_198</th>\n",
       "      <th>var_199</th>\n",
       "      <th>var_200</th>\n",
       "    </tr>\n",
       "  </thead>\n",
       "  <tbody>\n",
       "    <tr>\n",
       "      <th>214</th>\n",
       "      <td>0</td>\n",
       "      <td>0.078</td>\n",
       "      <td>0.030</td>\n",
       "      <td>0.126</td>\n",
       "      <td>0.917</td>\n",
       "      <td>0.488</td>\n",
       "      <td>0.382</td>\n",
       "      <td>0.569</td>\n",
       "      <td>0.340</td>\n",
       "      <td>0.223</td>\n",
       "      <td>...</td>\n",
       "      <td>0.783</td>\n",
       "      <td>0.009</td>\n",
       "      <td>0.773</td>\n",
       "      <td>0.598</td>\n",
       "      <td>0.465</td>\n",
       "      <td>0.771</td>\n",
       "      <td>0.313</td>\n",
       "      <td>0.748</td>\n",
       "      <td>0.953</td>\n",
       "      <td>0.744</td>\n",
       "    </tr>\n",
       "    <tr>\n",
       "      <th>156</th>\n",
       "      <td>0</td>\n",
       "      <td>0.890</td>\n",
       "      <td>0.170</td>\n",
       "      <td>0.975</td>\n",
       "      <td>0.565</td>\n",
       "      <td>0.961</td>\n",
       "      <td>0.712</td>\n",
       "      <td>0.331</td>\n",
       "      <td>0.793</td>\n",
       "      <td>0.640</td>\n",
       "      <td>...</td>\n",
       "      <td>0.230</td>\n",
       "      <td>0.317</td>\n",
       "      <td>0.908</td>\n",
       "      <td>0.020</td>\n",
       "      <td>0.717</td>\n",
       "      <td>0.462</td>\n",
       "      <td>0.909</td>\n",
       "      <td>0.958</td>\n",
       "      <td>0.326</td>\n",
       "      <td>0.619</td>\n",
       "    </tr>\n",
       "    <tr>\n",
       "      <th>50</th>\n",
       "      <td>1</td>\n",
       "      <td>0.848</td>\n",
       "      <td>0.319</td>\n",
       "      <td>0.460</td>\n",
       "      <td>0.313</td>\n",
       "      <td>0.112</td>\n",
       "      <td>0.078</td>\n",
       "      <td>0.776</td>\n",
       "      <td>0.834</td>\n",
       "      <td>0.394</td>\n",
       "      <td>...</td>\n",
       "      <td>0.424</td>\n",
       "      <td>0.767</td>\n",
       "      <td>0.467</td>\n",
       "      <td>0.614</td>\n",
       "      <td>0.118</td>\n",
       "      <td>0.710</td>\n",
       "      <td>0.807</td>\n",
       "      <td>0.335</td>\n",
       "      <td>0.987</td>\n",
       "      <td>0.259</td>\n",
       "    </tr>\n",
       "    <tr>\n",
       "      <th>242</th>\n",
       "      <td>0</td>\n",
       "      <td>0.040</td>\n",
       "      <td>0.211</td>\n",
       "      <td>0.379</td>\n",
       "      <td>0.776</td>\n",
       "      <td>0.068</td>\n",
       "      <td>0.180</td>\n",
       "      <td>0.563</td>\n",
       "      <td>0.191</td>\n",
       "      <td>0.168</td>\n",
       "      <td>...</td>\n",
       "      <td>0.849</td>\n",
       "      <td>0.210</td>\n",
       "      <td>0.980</td>\n",
       "      <td>0.545</td>\n",
       "      <td>0.919</td>\n",
       "      <td>0.525</td>\n",
       "      <td>0.708</td>\n",
       "      <td>0.601</td>\n",
       "      <td>0.282</td>\n",
       "      <td>0.092</td>\n",
       "    </tr>\n",
       "    <tr>\n",
       "      <th>141</th>\n",
       "      <td>1</td>\n",
       "      <td>0.628</td>\n",
       "      <td>0.865</td>\n",
       "      <td>0.663</td>\n",
       "      <td>0.681</td>\n",
       "      <td>0.581</td>\n",
       "      <td>0.457</td>\n",
       "      <td>0.784</td>\n",
       "      <td>0.870</td>\n",
       "      <td>0.600</td>\n",
       "      <td>...</td>\n",
       "      <td>0.154</td>\n",
       "      <td>0.464</td>\n",
       "      <td>0.204</td>\n",
       "      <td>0.414</td>\n",
       "      <td>0.185</td>\n",
       "      <td>0.610</td>\n",
       "      <td>0.305</td>\n",
       "      <td>0.751</td>\n",
       "      <td>0.510</td>\n",
       "      <td>0.876</td>\n",
       "    </tr>\n",
       "  </tbody>\n",
       "</table>\n",
       "<p>5 rows × 201 columns</p>\n",
       "</div>"
      ],
      "text/plain": [
       "     target  var_1  var_2  var_3  var_4  var_5  var_6  var_7  var_8  var_9  \\\n",
       "214       0  0.078  0.030  0.126  0.917  0.488  0.382  0.569  0.340  0.223   \n",
       "156       0  0.890  0.170  0.975  0.565  0.961  0.712  0.331  0.793  0.640   \n",
       "50        1  0.848  0.319  0.460  0.313  0.112  0.078  0.776  0.834  0.394   \n",
       "242       0  0.040  0.211  0.379  0.776  0.068  0.180  0.563  0.191  0.168   \n",
       "141       1  0.628  0.865  0.663  0.681  0.581  0.457  0.784  0.870  0.600   \n",
       "\n",
       "     ...  var_191  var_192  var_193  var_194  var_195  var_196  var_197  \\\n",
       "214  ...    0.783    0.009    0.773    0.598    0.465    0.771    0.313   \n",
       "156  ...    0.230    0.317    0.908    0.020    0.717    0.462    0.909   \n",
       "50   ...    0.424    0.767    0.467    0.614    0.118    0.710    0.807   \n",
       "242  ...    0.849    0.210    0.980    0.545    0.919    0.525    0.708   \n",
       "141  ...    0.154    0.464    0.204    0.414    0.185    0.610    0.305   \n",
       "\n",
       "     var_198  var_199  var_200  \n",
       "214    0.748    0.953    0.744  \n",
       "156    0.958    0.326    0.619  \n",
       "50     0.335    0.987    0.259  \n",
       "242    0.601    0.282    0.092  \n",
       "141    0.751    0.510    0.876  \n",
       "\n",
       "[5 rows x 201 columns]"
      ]
     },
     "execution_count": 3,
     "metadata": {},
     "output_type": "execute_result"
    }
   ],
   "source": [
    "#Load data\n",
    "df = pd.read_csv(\"training.csv\")\n",
    "df = df.drop(columns={\"id\"})\n",
    "df.sample(5)"
   ]
  },
  {
   "cell_type": "code",
   "execution_count": 4,
   "metadata": {},
   "outputs": [],
   "source": [
    "# Create testing and training data\n",
    "df2 = pd.get_dummies(df, drop_first=True)\n",
    "y = np.array(df2[\"target\"]).reshape(-1,1)\n",
    "X = np.array(df2.drop(columns={\"target\"}))\n",
    "X_train, X_test, y_train, y_test = train_test_split(X, y)"
   ]
  },
  {
   "attachments": {},
   "cell_type": "markdown",
   "metadata": {},
   "source": [
    "#### Modelling"
   ]
  },
  {
   "cell_type": "code",
   "execution_count": 10,
   "metadata": {},
   "outputs": [
    {
     "name": "stdout",
     "output_type": "stream",
     "text": [
      "0.6349206349206349\n",
      "Pipeline(steps=[('scaler', StandardScaler()),\n",
      "                ('forest',\n",
      "                 RandomForestClassifier(max_depth=7, min_samples_leaf=5,\n",
      "                                        min_samples_split=3, n_estimators=80,\n",
      "                                        n_jobs=-1))])\n"
     ]
    }
   ],
   "source": [
    "from sklearn.ensemble import RandomForestClassifier\n",
    "from sklearn.model_selection import GridSearchCV\n",
    "# Create model using scalar and a forest\n",
    "scaler = StandardScaler()\n",
    "estimator = RandomForestClassifier(n_jobs=-1)\n",
    "pipe = Pipeline(steps=[(\"scaler\", scaler), (\"forest\", estimator)])\n",
    "\n",
    "params = {'forest__max_depth':[5,6,7,8,9],\n",
    "          'forest__min_samples_split':[3,4,5,6,7],\n",
    "          'forest__min_samples_leaf' :[2,3,4,5,6],\n",
    "          'forest__n_estimators' :[20,50,80,100]}\n",
    " \n",
    "best = GridSearchCV(pipe, param_grid=params, cv=5, n_jobs=-1) \n",
    "best.fit(X_train, y_train.ravel())\n",
    "best1 = best.best_estimator_\n",
    "print(best1.score(X_test, y_test))\n",
    "print(best1)"
   ]
  },
  {
   "cell_type": "markdown",
   "metadata": {},
   "source": [
    "### Finishing"
   ]
  },
  {
   "cell_type": "code",
   "execution_count": 6,
   "metadata": {},
   "outputs": [
    {
     "name": "stdout",
     "output_type": "stream",
     "text": [
      "0.5079365079365079\n",
      "GridSearchCV(cv=5,\n",
      "             estimator=Pipeline(steps=[('scaler', StandardScaler()),\n",
      "                                       ('forest',\n",
      "                                        RandomForestClassifier(n_jobs=-1))]),\n",
      "             n_jobs=-1,\n",
      "             param_grid={'forest__max_depth': [5, 6, 7, 8, 9],\n",
      "                         'forest__min_samples_leaf': [2, 3, 4, 5, 6],\n",
      "                         'forest__min_samples_split': [3, 4, 5, 6, 7],\n",
      "                         'forest__n_estimators': [20, 50, 80]})\n"
     ]
    }
   ],
   "source": [
    "print(best.score(X_test, y_test))\n",
    "print(best)"
   ]
  },
  {
   "cell_type": "markdown",
   "metadata": {},
   "source": [
    "### Testing\n"
   ]
  },
  {
   "cell_type": "code",
   "execution_count": 11,
   "metadata": {},
   "outputs": [
    {
     "name": "stdout",
     "output_type": "stream",
     "text": [
      "0.6206286525541148\n",
      "0.6201012658227848\n",
      "Michael Harris 0.6203649591884498\n"
     ]
    }
   ],
   "source": [
    "#Load Test Data\n",
    "test_df = pd.read_csv(\"testing.csv\")\n",
    "test_df = test_df.drop(columns={\"id\"})\n",
    "#Create tests and score\n",
    "test_y = np.array(test_df[\"target\"]).reshape(-1,1)\n",
    "test_X = np.array(test_df.drop(columns={\"target\"}))\n",
    "\n",
    "preds = best.predict(test_X)\n",
    "\n",
    "roc_score = roc_auc_score(test_y, preds)\n",
    "acc_score = accuracy_score(test_y, preds)\n",
    "\n",
    "print(roc_score)\n",
    "print(acc_score)\n",
    "print(name, np.mean([roc_score, acc_score]))\n"
   ]
  },
  {
   "attachments": {},
   "cell_type": "markdown",
   "metadata": {},
   "source": [
    "### What Accuracy Changes Were Used\n",
    "\n",
    "Please list here what you did to try to increase accuracy and/or limit overfitting:\n",
    "<ul>\n",
    "<li> For the model I used a forest instead of a single tree, in combination with a standard scalar.\n",
    "<li> For that forest used a grid search with a combination of four parameters: max depth, minimum sample split, minimum sample leaf and n estimators.\n",
    "</ul>"
   ]
  },
  {
   "cell_type": "markdown",
   "metadata": {},
   "source": []
  }
 ],
 "metadata": {
  "interpreter": {
   "hash": "4d722d3adfa415172c1f5238b519fb86b488acdae450fd691ab06c09f4ca9173"
  },
  "kernelspec": {
   "display_name": "Python 3.9.7 64-bit ('ml3950': conda)",
   "language": "python",
   "name": "python3"
  },
  "language_info": {
   "codemirror_mode": {
    "name": "ipython",
    "version": 3
   },
   "file_extension": ".py",
   "mimetype": "text/x-python",
   "name": "python",
   "nbconvert_exporter": "python",
   "pygments_lexer": "ipython3",
   "version": "3.11.4"
  },
  "orig_nbformat": 4
 },
 "nbformat": 4,
 "nbformat_minor": 2
}
